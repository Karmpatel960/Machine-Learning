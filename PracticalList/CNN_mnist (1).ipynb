{
 "cells": [
  {
   "cell_type": "markdown",
   "metadata": {
    "id": "Qw8eUd4r6x-2"
   },
   "source": [
    "Neural Network practical with MNIST dataset"
   ]
  },
  {
   "cell_type": "code",
   "execution_count": 1,
   "metadata": {
    "id": "19Ra1kU4x4q6"
   },
   "outputs": [],
   "source": [
    "from keras.datasets import mnist"
   ]
  },
  {
   "cell_type": "code",
   "execution_count": 2,
   "metadata": {
    "colab": {
     "base_uri": "https://localhost:8080/",
     "height": 51
    },
    "id": "ec-04nhRx9tj",
    "outputId": "dba6ea74-ae6a-4c62-a5b4-f93101f772f8"
   },
   "outputs": [
    {
     "name": "stdout",
     "output_type": "stream",
     "text": [
      "Downloading data from https://storage.googleapis.com/tensorflow/tf-keras-datasets/mnist.npz\n",
      "11490434/11490434 [==============================] - 23s 2us/step\n"
     ]
    }
   ],
   "source": [
    "(x_train, y_train), (x_test, y_test) = mnist.load_data()"
   ]
  },
  {
   "cell_type": "code",
   "execution_count": 3,
   "metadata": {
    "colab": {
     "base_uri": "https://localhost:8080/",
     "height": 85
    },
    "id": "Wo9Ch9F8yCRf",
    "outputId": "6885af2e-cbe9-45b4-83f6-7e75aee91aa6"
   },
   "outputs": [
    {
     "name": "stdout",
     "output_type": "stream",
     "text": [
      "(60000, 28, 28)\n",
      "(60000,)\n",
      "(10000, 28, 28)\n",
      "(10000,)\n"
     ]
    }
   ],
   "source": [
    "print(x_train.shape)\n",
    "print(y_train.shape)\n",
    "print(x_test.shape)\n",
    "print(y_test.shape)"
   ]
  },
  {
   "cell_type": "code",
   "execution_count": 4,
   "metadata": {
    "colab": {
     "base_uri": "https://localhost:8080/",
     "height": 265
    },
    "id": "vSg92vzkyGfH",
    "outputId": "11834e9b-0072-45c3-aaaa-aa45933ed6fe"
   },
   "outputs": [
    {
     "data": {
      "image/png": "[encoded data removed]",
      "text/plain": [
       "<Figure size 640x480 with 1 Axes>"
      ]
     },
     "metadata": {},
     "output_type": "display_data"
    }
   ],
   "source": [
    "import matplotlib.pyplot as plt\n",
    "plt.imshow(x_train[1,:,:].reshape(28,28),cmap='gray')\n",
    "plt.show()"
   ]
  },
  {
   "cell_type": "code",
   "execution_count": 5,
   "metadata": {
    "colab": {
     "base_uri": "https://localhost:8080/",
     "height": 34
    },
    "id": "91dgUFoRy07J",
    "outputId": "5de1a80f-d935-4ea2-8606-5fc08c4baf6c"
   },
   "outputs": [
    {
     "data": {
      "text/plain": [
       "0"
      ]
     },
     "execution_count": 5,
     "metadata": {},
     "output_type": "execute_result"
    }
   ],
   "source": [
    "y_train[1]"
   ]
  },
  {
   "cell_type": "code",
   "execution_count": 6,
   "metadata": {
    "id": "PoGANm-2zKRw"
   },
   "outputs": [],
   "source": [
    "#Convert labels in one hot vector\n",
    "from keras.utils import to_categorical\n",
    "y_train_encoded = to_categorical(y_train)\n",
    "y_test_encoded = to_categorical(y_test)"
   ]
  },
  {
   "cell_type": "code",
   "execution_count": 7,
   "metadata": {
    "colab": {
     "base_uri": "https://localhost:8080/",
     "height": 34
    },
    "id": "A4JtTzXN0f_e",
    "outputId": "0c507022-f7f1-4800-fb28-57568530d5ec"
   },
   "outputs": [
    {
     "data": {
      "text/plain": [
       "array([0., 0., 0., 0., 0., 1., 0., 0., 0., 0.], dtype=float32)"
      ]
     },
     "execution_count": 7,
     "metadata": {},
     "output_type": "execute_result"
    }
   ],
   "source": [
    "y_train_encoded[0]"
   ]
  },
  {
   "cell_type": "code",
   "execution_count": 8,
   "metadata": {
    "id": "Zf7ogna_y4YJ"
   },
   "outputs": [],
   "source": [
    "# Normalize the images. #Mean centering = > It helps in reducing the likelihood of vanishing gradients during training and can improve the convergence of the network.\n",
    "x_train_norm = (x_train / 255) - 0.5\n",
    "x_test_norm = (x_test / 255) - 0.5"
   ]
  },
  {
   "cell_type": "code",
   "execution_count": 9,
   "metadata": {
    "colab": {
     "base_uri": "https://localhost:8080/",
     "height": 51
    },
    "id": "U08oV9ag1Tx9",
    "outputId": "a9fc393b-e3c2-41a0-e77a-cc6467c8a23c"
   },
   "outputs": [
    {
     "name": "stdout",
     "output_type": "stream",
     "text": [
      "(60000, 28, 28)\n",
      "0 -0.5\n"
     ]
    }
   ],
   "source": [
    "print(x_train_norm.shape)\n",
    "print(x_train[1,1,1],x_train_norm[1,1,1])\n"
   ]
  },
  {
   "cell_type": "code",
   "execution_count": 10,
   "metadata": {
    "colab": {
     "base_uri": "https://localhost:8080/",
     "height": 34
    },
    "id": "bMM24zv9Gkho",
    "outputId": "b3e8194a-621b-4bef-bc0f-a162cd4d9451"
   },
   "outputs": [
    {
     "data": {
      "text/plain": [
       "60000"
      ]
     },
     "execution_count": 10,
     "metadata": {},
     "output_type": "execute_result"
    }
   ],
   "source": [
    "x_train_norm.shape[0]"
   ]
  },
  {
   "cell_type": "code",
   "execution_count": 11,
   "metadata": {
    "id": "U--hLYN_0tPa"
   },
   "outputs": [],
   "source": [
    "# Flatten the images.\n",
    "#x_train_images = x_train_norm.reshape((-1, 784))\n",
    "#x_test_images = x_test_norm.reshape((-1, 784))\n",
    "\n",
    "\n",
    "# reshape dataset to have a single channel\n",
    "x_train_images = x_train_norm.reshape((x_train_norm.shape[0], 28, 28, 1))\n",
    "x_test_images = x_test_norm.reshape((x_test_norm.shape[0], 28, 28, 1))\n"
   ]
  },
  {
   "cell_type": "code",
   "execution_count": 12,
   "metadata": {
    "colab": {
     "base_uri": "https://localhost:8080/",
     "height": 85
    },
    "id": "eIfwpLt85GiJ",
    "outputId": "4420d673-ddda-4343-d48f-c3cb4ad6f867"
   },
   "outputs": [
    {
     "name": "stdout",
     "output_type": "stream",
     "text": [
      "(60000, 28, 28, 1)\n",
      "(60000, 10)\n",
      "(10000, 28, 28, 1)\n",
      "(10000, 10)\n"
     ]
    }
   ],
   "source": [
    "print(x_train_images.shape)\n",
    "print(y_train_encoded.shape)\n",
    "print(x_test_images.shape)\n",
    "print(y_test_encoded.shape)"
   ]
  },
  {
   "cell_type": "markdown",
   "metadata": {},
   "source": [
    "**Kernel Initializer Options:**\n",
    "\n",
    "1. `glorot_uniform`: Initializes weights from a uniform distribution with a specific range. Designed for sigmoid and hyperbolic tangent (tanh) activation functions.\n",
    "\n",
    "2. `glorot_normal`: Initializes weights from a normal distribution with mean 0 and a variance calculated based on the number of input and output units. A variant of Xavier initialization.\n",
    "\n",
    "3. `lecun_uniform`: Initializes weights from a uniform distribution with a specific range. Designed for Leaky ReLU activation functions.\n",
    "\n",
    "4. `lecun_normal`: Initializes weights from a normal distribution with mean 0 and a variance calculated based on the number of input units. Used with Leaky ReLU activation functions.\n",
    "\n",
    "5. `random_normal`: Initializes weights from a normal distribution with specified mean and standard deviation. Customizable initialization.\n",
    "\n",
    "6. `random_uniform`: Initializes weights from a uniform distribution within a specified range. Customizable initialization.\n",
    "\n",
    "7. `identity`: Initializes weights as the identity matrix. Used in certain neural network architectures with skip connections.\n",
    "\n",
    "8. `zeros`: Initializes weights to all zeros. Not commonly used for weights but can be used for initializing bias terms.\n",
    "\n",
    "9. `ones`: Initializes weights to all ones. Similar to 'zeros,' primarily used for initializing bias terms.\n",
    "\n",
    "10. `orthogonal`: Initializes weights as orthogonal matrices, preserving input data geometry. Commonly used in recurrent neural networks (RNNs).\n",
    "\n"
   ]
  },
  {
   "cell_type": "code",
   "execution_count": 35,
   "metadata": {
    "id": "YUeEB5QQ5Tfc"
   },
   "outputs": [],
   "source": [
    "#'he_uniform' stands for Kaiming He, a researcher known for his contributions to deep learning. =>the weights are initialized from a uniform distribution.\n",
    "# he Initialization is designed to work well with activation functions like ReLU (Rectified Linear Unit), \n",
    "#which is commonly used in modern neural networks.\n",
    "#It helps in addressing the vanishing gradient problem associated with ReLU.\n",
    "\n",
    "from keras.models import Sequential\n",
    "from keras.layers import Dense, Conv2D, MaxPooling2D, Flatten\n",
    "model = Sequential()\n",
    "model.add(Conv2D(32, (3, 3), activation='relu', kernel_initializer='he_uniform', input_shape=(28, 28, 1)))\n",
    "model.add(MaxPooling2D((2, 2 )))\n",
    "\n",
    "model.add(Conv2D(64, (3, 3), activation='relu', kernel_initializer='he_uniform', input_shape=(28, 28, 1)))\n",
    "model.add(MaxPooling2D((2, 2)))\n",
    "\n",
    "model.add(Flatten())\n",
    "model.add(Dense(100, activation='relu', kernel_initializer='he_uniform'))\n",
    "model.add(Dense(10, activation='softmax'))"
   ]
  },
  {
   "cell_type": "code",
   "execution_count": 36,
   "metadata": {
    "colab": {
     "base_uri": "https://localhost:8080/",
     "height": 323
    },
    "id": "vttJuVjh5pyT",
    "outputId": "28595f53-2142-49a0-9434-a528b5f5db6b"
   },
   "outputs": [
    {
     "name": "stdout",
     "output_type": "stream",
     "text": [
      "Model: \"sequential_15\"\n",
      "_________________________________________________________________\n",
      " Layer (type)                Output Shape              Param #   \n",
      "=================================================================\n",
      " conv2d_38 (Conv2D)          (None, 26, 26, 32)        320       \n",
      "                                                                 \n",
      " max_pooling2d_27 (MaxPoolin  (None, 13, 13, 32)       0         \n",
      " g2D)                                                            \n",
      "                                                                 \n",
      " conv2d_39 (Conv2D)          (None, 11, 11, 64)        18496     \n",
      "                                                                 \n",
      " max_pooling2d_28 (MaxPoolin  (None, 5, 5, 64)         0         \n",
      " g2D)                                                            \n",
      "                                                                 \n",
      " flatten_15 (Flatten)        (None, 1600)              0         \n",
      "                                                                 \n",
      " dense_30 (Dense)            (None, 100)               160100    \n",
      "                                                                 \n",
      " dense_31 (Dense)            (None, 10)                1010      \n",
      "                                                                 \n",
      "=================================================================\n",
      "Total params: 179,926\n",
      "Trainable params: 179,926\n",
      "Non-trainable params: 0\n",
      "_________________________________________________________________\n"
     ]
    }
   ],
   "source": [
    "# compile model\n",
    "from keras.optimizers import SGD\n",
    "opt = SGD(lr=0.01, momentum=0.9)\n",
    "model.compile(loss='categorical_crossentropy', optimizer=opt, metrics=['accuracy'])\n",
    "model.summary()"
   ]
  },
  {
   "cell_type": "code",
   "execution_count": 37,
   "metadata": {
    "colab": {
     "base_uri": "https://localhost:8080/",
     "height": 357
    },
    "id": "ZB5ZxEZG59Xd",
    "outputId": "491f21d8-2f08-4bd2-be05-ca4e869c94ea"
   },
   "outputs": [
    {
     "name": "stdout",
     "output_type": "stream",
     "text": [
      "Epoch 1/10\n",
      "1875/1875 [==============================] - 28s 14ms/step - loss: 0.1171 - accuracy: 0.9637\n",
      "Epoch 2/10\n",
      "1875/1875 [==============================] - 27s 14ms/step - loss: 0.0407 - accuracy: 0.9873\n",
      "Epoch 3/10\n",
      "1875/1875 [==============================] - 27s 15ms/step - loss: 0.0278 - accuracy: 0.9915\n",
      "Epoch 4/10\n",
      "1875/1875 [==============================] - 28s 15ms/step - loss: 0.0201 - accuracy: 0.9937\n",
      "Epoch 5/10\n",
      "1875/1875 [==============================] - 29s 15ms/step - loss: 0.0140 - accuracy: 0.9957\n",
      "Epoch 6/10\n",
      "1875/1875 [==============================] - 29s 15ms/step - loss: 0.0120 - accuracy: 0.9963\n",
      "Epoch 7/10\n",
      "1875/1875 [==============================] - 31s 17ms/step - loss: 0.0068 - accuracy: 0.9980\n",
      "Epoch 8/10\n",
      "1875/1875 [==============================] - 31s 16ms/step - loss: 0.0046 - accuracy: 0.9987\n",
      "Epoch 9/10\n",
      "1875/1875 [==============================] - 31s 16ms/step - loss: 0.0037 - accuracy: 0.9990\n",
      "Epoch 10/10\n",
      "1875/1875 [==============================] - 29s 15ms/step - loss: 0.0032 - accuracy: 0.9991\n"
     ]
    }
   ],
   "source": [
    "# Training a model on Train data and at the end it will updates the weights.\n",
    "eval = model.fit(x_train_images, y_train_encoded, epochs=10, batch_size=32)"
   ]
  },
  {
   "cell_type": "code",
   "execution_count": null,
   "metadata": {
    "colab": {
     "base_uri": "https://localhost:8080/",
     "height": 68
    },
    "id": "MHZiKa836Ghk",
    "outputId": "222d7e76-df87-4829-8716-cb1f7407b73f"
   },
   "outputs": [
    {
     "name": "stdout",
     "output_type": "stream",
     "text": [
      "313/313 [==============================] - 2s 6ms/step - loss: 0.0404 - accuracy: 0.9878\n",
      "\n",
      "Accuracy: 98.78%\n"
     ]
    }
   ],
   "source": [
    "# Evaluate the model\n",
    "scores = model.evaluate(x_test_images, y_test_encoded)\n",
    "print(\"\\nAccuracy: %.2f%%\" % (scores[1]*100))"
   ]
  },
  {
   "cell_type": "code",
   "execution_count": 19,
   "metadata": {
    "id": "rajG90a2GGjl"
   },
   "outputs": [
    {
     "name": "stdout",
     "output_type": "stream",
     "text": [
      "1563/1563 [==============================] - 40s 25ms/step - loss: 2.3028 - accuracy: 0.0995 - val_loss: 2.3027 - val_accuracy: 0.1000\n",
      "1563/1563 [==============================] - 43s 27ms/step - loss: 2.3028 - accuracy: 0.0970 - val_loss: 2.3026 - val_accuracy: 0.1000\n",
      "1563/1563 [==============================] - 40s 25ms/step - loss: 2.3028 - accuracy: 0.0961 - val_loss: 2.3026 - val_accuracy: 0.1000\n",
      "1563/1563 [==============================] - 42s 26ms/step - loss: 2.3028 - accuracy: 0.0985 - val_loss: 2.3026 - val_accuracy: 0.1000\n",
      "1563/1563 [==============================] - 40s 25ms/step - loss: 2.3028 - accuracy: 0.0996 - val_loss: 2.3026 - val_accuracy: 0.1000\n",
      "1563/1563 [==============================] - 42s 26ms/step - loss: 2.3028 - accuracy: 0.1001 - val_loss: 2.3026 - val_accuracy: 0.1000\n",
      "1563/1563 [==============================] - 40s 24ms/step - loss: 2.3028 - accuracy: 0.0992 - val_loss: 2.3026 - val_accuracy: 0.1000\n"
     ]
    },
    {
     "data": {
      "image/png": "[encoded data removed]",
      "text/plain": [
       "<Figure size 864x432 with 1 Axes>"
      ]
     },
     "metadata": {
      "needs_background": "light"
     },
     "output_type": "display_data"
    }
   ],
   "source": [
    "import tensorflow as tf\n",
    "from tensorflow.keras import layers, models\n",
    "from tensorflow.keras.datasets import cifar10\n",
    "import matplotlib.pyplot as plt\n",
    "\n",
    "# Load the CIFAR-10 dataset\n",
    "(x_train, y_train), (x_test, y_test) = cifar10.load_data()\n",
    "\n",
    "# Normalize pixel values to the range [0, 1]\n",
    "x_train, x_test = x_train / 255.0, x_test / 255.0\n",
    "\n",
    "# Define a function to create and compile a CNN model with a specified kernel initializer\n",
    "def create_cnn_model(kernel_initializer):\n",
    "    model = models.Sequential([\n",
    "        layers.Conv2D(32, (3, 3), activation='relu', kernel_initializer=kernel_initializer, input_shape=(32, 32, 3)),\n",
    "        layers.MaxPooling2D((2, 2)),\n",
    "        layers.Conv2D(64, (3, 3), activation='relu', kernel_initializer=kernel_initializer),\n",
    "        layers.MaxPooling2D((2, 2)),\n",
    "        layers.Conv2D(64, (3, 3), activation='relu', kernel_initializer=kernel_initializer),\n",
    "        layers.Flatten(),\n",
    "        layers.Dense(64, activation='relu', kernel_initializer=kernel_initializer),\n",
    "        layers.Dense(10, activation='softmax')\n",
    "    ])\n",
    "    \n",
    "    # Compile the model\n",
    "    model.compile(optimizer='adam',\n",
    "                  loss='sparse_categorical_crossentropy',\n",
    "                  metrics=['accuracy'])\n",
    "    \n",
    "    return model\n",
    "\n",
    "# List of kernel initializers to experiment with\n",
    "kernel_initializers = ['glorot_uniform', 'glorot_normal', 'lecun_uniform', 'lecun_normal', 'random_normal', 'random_uniform', 'orthogonal']\n",
    "\n",
    "# Create and train CNN models with different kernel initializers\n",
    "history_dict = {}\n",
    "\n",
    "for kernel_initializer in kernel_initializers:\n",
    "    model = create_cnn_model(kernel_initializer)\n",
    "    history = model.fit(x_train, y_train, epochs=1, validation_data=(x_test, y_test))\n",
    "    history_dict[kernel_initializer] = history\n",
    "\n",
    "# Plot training accuracy for different kernel initializers\n",
    "plt.figure(figsize=(12, 6))\n",
    "for kernel_initializer, history in history_dict.items():\n",
    "    plt.plot(history.history['accuracy'], label=kernel_initializer)\n",
    "\n",
    "plt.title('Training Accuracy with Different Kernel Initializers')\n",
    "plt.xlabel('Epochs')\n",
    "plt.ylabel('Accuracy')\n",
    "plt.legend()\n",
    "plt.show()\n"
   ]
  },
  {
   "cell_type": "markdown",
   "metadata": {},
   "source": []
  },
  {
   "cell_type": "code",
   "execution_count": 18,
   "metadata": {},
   "outputs": [
    {
     "name": "stdout",
     "output_type": "stream",
     "text": [
      "Categorical Cross-Entropy Loss: 0.5108\n"
     ]
    }
   ],
   "source": [
    "import tensorflow as tf\n",
    "\n",
    "# True labels (one-hot encoded)\n",
    "true_labels = [0, 1, 0]\n",
    "\n",
    "# Predicted class probabilities\n",
    "predicted_probs = [0.2, 0.6, 0.2]\n",
    "\n",
    "# Calculate the Categorical Cross-Entropy loss\n",
    "loss = tf.keras.losses.categorical_crossentropy(true_labels, predicted_probs)\n",
    "\n",
    "print(f\"Categorical Cross-Entropy Loss: {loss.numpy():.4f}\")\n"
   ]
  },
  {
   "cell_type": "markdown",
   "metadata": {},
   "source": [
    "Loss Calculation Example:\n",
    "\n",
    "```python\n",
    "# True labels (one-hot encoded)\n",
    "true_labels = [0, 1, 0]\n",
    "\n",
    "# Predicted class probabilities\n",
    "predicted_probs = [0.2, 0.6, 0.2]\n",
    "\n",
    "# Calculate the Categorical Cross-Entropy loss\n",
    "Loss = -(true_label_A * log(predicted_prob_A) + true_label_B * log(predicted_prob_B) + true_label_C * log(predicted_prob_C))\n",
    "\n",
    "Loss = -(0 * log(0.2) + 1 * log(0.6) + 0 * log(0.2))\n",
    "\n",
    "Loss ≈ -log(0.6) ≈ 0.5108\n"
   ]
  }
 ],
 "metadata": {
  "colab": {
   "provenance": []
  },
  "kernelspec": {
   "display_name": "Python 3 (ipykernel)",
   "language": "python",
   "name": "python3"
  },
  "language_info": {
   "codemirror_mode": {
    "name": "ipython",
    "version": 3
   },
   "file_extension": ".py",
   "mimetype": "text/x-python",
   "name": "python",
   "nbconvert_exporter": "python",
   "pygments_lexer": "ipython3",
   "version": "3.10.9"
  }
 },
 "nbformat": 4,
 "nbformat_minor": 4
}
