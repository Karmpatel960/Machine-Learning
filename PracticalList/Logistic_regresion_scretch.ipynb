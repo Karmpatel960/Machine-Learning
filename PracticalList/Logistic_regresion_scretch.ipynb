{
 "cells": [
  {
   "cell_type": "code",
   "execution_count": 1,
   "metadata": {},
   "outputs": [],
   "source": [
    "import numpy as np\n",
    "import matplotlib.pyplot as plt\n",
    "from sklearn.model_selection import train_test_split"
   ]
  },
  {
   "cell_type": "code",
   "execution_count": 2,
   "metadata": {},
   "outputs": [],
   "source": [
    "np.random.seed(0)\n",
    "X = np.random.randn(100, 2)\n",
    "y = (X[:, 0] + X[:, 1] > 0).astype(int)"
   ]
  },
  {
   "cell_type": "code",
   "execution_count": 3,
   "metadata": {},
   "outputs": [],
   "source": [
    "X_train, X_test, y_train, y_test = train_test_split(X, y, test_size=0.2, random_state=42)"
   ]
  },
  {
   "cell_type": "code",
   "execution_count": 4,
   "metadata": {},
   "outputs": [],
   "source": [
    "def sigmoid(z):\n",
    "    return 1 / (1 + np.exp(-z))\n",
    "\n",
    "def predict(X, weights):\n",
    "    return sigmoid(np.dot(X, weights))\n",
    "\n",
    "def gradient_descent(X, y, weights, learning_rate, num_iterations):\n",
    "    m = len(y)\n",
    "    \n",
    "    for _ in range(num_iterations):\n",
    "        predictions = predict(X, weights)\n",
    "        gradient = np.dot(X.T, (predictions - y)) / m\n",
    "        weights -= learning_rate * gradient\n",
    "    \n",
    "    return weights"
   ]
  },
  {
   "cell_type": "code",
   "execution_count": 5,
   "metadata": {},
   "outputs": [],
   "source": [
    "learning_rate = 0.01\n",
    "num_iterations = 1000\n",
    "\n",
    "X_train = np.c_[np.ones((X_train.shape[0], 1)), X_train]\n",
    "initial_weights = np.zeros(X_train.shape[1])\n",
    "\n",
    "final_weights = gradient_descent(X_train, y_train, initial_weights, learning_rate, num_iterations)"
   ]
  },
  {
   "cell_type": "code",
   "execution_count": 6,
   "metadata": {},
   "outputs": [],
   "source": [
    "X_test = np.c_[np.ones((X_test.shape[0], 1)), X_test]\n",
    "y_pred = predict(X_test, final_weights)"
   ]
  }
 ],
 "metadata": {
  "kernelspec": {
   "display_name": "Python 3",
   "language": "python",
   "name": "python3"
  },
  "language_info": {
   "codemirror_mode": {
    "name": "ipython",
    "version": 3
   },
   "file_extension": ".py",
   "mimetype": "text/x-python",
   "name": "python",
   "nbconvert_exporter": "python",
   "pygments_lexer": "ipython3",
   "version": "3.11.1"
  },
  "orig_nbformat": 4
 },
 "nbformat": 4,
 "nbformat_minor": 2
}
