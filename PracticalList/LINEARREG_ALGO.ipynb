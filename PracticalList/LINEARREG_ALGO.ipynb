{
 "cells": [
  {
   "cell_type": "code",
   "execution_count": null,
   "metadata": {},
   "outputs": [],
   "source": [
    "import pandas as pd\n",
    "import matplotlib.pyplot as plt\n",
    "import numpy as np"
   ]
  },
  {
   "cell_type": "code",
   "execution_count": 1,
   "metadata": {},
   "outputs": [],
   "source": [
    "def linear_regression(X, Y):\n",
    "    n = len(X)\n",
    "    if n != len(Y):\n",
    "        raise ValueError(\"X and Y must have the same length.\")\n",
    "\n",
    "    mean_x = sum(X) / n\n",
    "    mean_y = sum(Y) / n\n",
    "\n",
    "    numerator = sum([(X[i] - mean_x) * (Y[i] - mean_y) for i in range(n)])\n",
    "    denominator = sum([(X[i] - mean_x) ** 2 for i in range(n)])\n",
    "\n",
    "    b1 = numerator / denominator\n",
    "    b0 = mean_y - b1 * mean_x\n",
    "\n",
    "    return b0, b1\n",
    "\n",
    "def predict(X, b0, b1):\n",
    "    return [b0 + b1 * x for x in X]\n"
   ]
  },
  {
   "cell_type": "code",
   "execution_count": 2,
   "metadata": {},
   "outputs": [
    {
     "name": "stdout",
     "output_type": "stream",
     "text": [
      "Intercept (b0): 2.2\n",
      "Slope (b1): 0.6\n",
      "Predictions: [2.8000000000000003, 3.4000000000000004, 4.0, 4.6, 5.2]\n"
     ]
    }
   ],
   "source": [
    "X = [1, 2, 3, 4, 5]\n",
    "Y = [2, 4, 5, 4, 5]\n",
    "\n",
    "b0, b1 = linear_regression(X, Y)\n",
    "\n",
    "print(\"Intercept (b0):\", b0)\n",
    "print(\"Slope (b1):\", b1)\n",
    "\n",
    "predictions = predict(X, b0, b1)\n",
    "print(\"Predictions:\", predictions)\n"
   ]
  }
 ],
 "metadata": {
  "kernelspec": {
   "display_name": "Python 3",
   "language": "python",
   "name": "python3"
  },
  "language_info": {
   "codemirror_mode": {
    "name": "ipython",
    "version": 3
   },
   "file_extension": ".py",
   "mimetype": "text/x-python",
   "name": "python",
   "nbconvert_exporter": "python",
   "pygments_lexer": "ipython3",
   "version": "3.11.1"
  },
  "orig_nbformat": 4
 },
 "nbformat": 4,
 "nbformat_minor": 2
}
